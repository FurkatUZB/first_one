{
  "nbformat": 4,
  "nbformat_minor": 0,
  "metadata": {
    "colab": {
      "private_outputs": true,
      "provenance": [],
      "authorship_tag": "ABX9TyPOqtxTSfCSA6QWV5zzRKzV",
      "include_colab_link": true
    },
    "kernelspec": {
      "name": "python3",
      "display_name": "Python 3"
    },
    "language_info": {
      "name": "python"
    }
  },
  "cells": [
    {
      "cell_type": "markdown",
      "metadata": {
        "id": "view-in-github",
        "colab_type": "text"
      },
      "source": [
        "<a href=\"https://colab.research.google.com/github/FurkatUZB/first_one/blob/main/Image_rotation.ipynb\" target=\"_parent\"><img src=\"https://colab.research.google.com/assets/colab-badge.svg\" alt=\"Open In Colab\"/></a>"
      ]
    },
    {
      "cell_type": "code",
      "execution_count": null,
      "metadata": {
        "id": "iF9r1__3NdhB"
      },
      "outputs": [],
      "source": [
        "!apt-get install unrar\n"
      ]
    },
    {
      "cell_type": "code",
      "source": [
        "!unrar x /content/tree.rar /content/"
      ],
      "metadata": {
        "id": "o1klrSaqUqyI"
      },
      "execution_count": null,
      "outputs": []
    },
    {
      "cell_type": "code",
      "source": [
        "!ls -l /content/tree/"
      ],
      "metadata": {
        "id": "buluFCK6KPmx"
      },
      "execution_count": null,
      "outputs": []
    },
    {
      "cell_type": "code",
      "source": [
        "!pip install opencv-python"
      ],
      "metadata": {
        "id": "I9GcqU-OKbFg"
      },
      "execution_count": null,
      "outputs": []
    },
    {
      "cell_type": "code",
      "source": [
        "import cv2\n",
        "import imgaug.augmenters as iaa\n",
        "import os\n",
        "\n",
        "# Define the paths\n",
        "image_dir = '/content/tree/images'  # Update with your actual image directory path\n",
        "aug_dir = '/content/tree/aug'      # Update with your actual augmented image directory path\n",
        "os.makedirs(aug_dir, exist_ok=True)\n",
        "\n",
        "# Rotation degrees\n",
        "rotation_degrees = [15, 30, 45, 60, 90]\n",
        "\n",
        "# Process and rotate images\n",
        "for filename in os.listdir(image_dir):\n",
        "    if filename.lower().endswith(('.jpg', '.jpeg', '.png')):\n",
        "        image_path = os.path.join(image_dir, filename)\n",
        "        image = cv2.imread(image_path)\n",
        "\n",
        "        for degree in rotation_degrees:\n",
        "            rotator = iaa.Affine(rotate=degree)\n",
        "            rotated_image = rotator(image=image)\n",
        "            rotated_filename = f'rotated_{degree}_{filename}'\n",
        "            cv2.imwrite(os.path.join(aug_dir, rotated_filename), rotated_image)\n",
        "\n",
        "print(\"All rotations completed and images saved in 'aug' directory.\")"
      ],
      "metadata": {
        "id": "aqkwk_FFKjQA"
      },
      "execution_count": null,
      "outputs": []
    }
  ]
}