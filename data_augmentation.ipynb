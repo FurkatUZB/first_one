{
  "nbformat": 4,
  "nbformat_minor": 0,
  "metadata": {
    "colab": {
      "provenance": [],
      "gpuType": "T4",
      "include_colab_link": true
    },
    "kernelspec": {
      "name": "python3",
      "display_name": "Python 3"
    },
    "language_info": {
      "name": "python"
    },
    "accelerator": "GPU"
  },
  "cells": [
    {
      "cell_type": "markdown",
      "metadata": {
        "id": "view-in-github",
        "colab_type": "text"
      },
      "source": [
        "<a href=\"https://colab.research.google.com/github/FurkatUZB/first_one/blob/main/data_augmentation.ipynb\" target=\"_parent\"><img src=\"https://colab.research.google.com/assets/colab-badge.svg\" alt=\"Open In Colab\"/></a>"
      ]
    },
    {
      "cell_type": "code",
      "execution_count": null,
      "metadata": {
        "id": "UX-MN7OE4pLJ"
      },
      "outputs": [],
      "source": [
        "import tensorflow as tf\n",
        "from tensorflow.keras.preprocessing import image\n",
        "from tensorflow.keras.preprocessing.image import ImageDataGenerator"
      ]
    },
    {
      "cell_type": "code",
      "source": [
        "import opendatasets as od\n",
        "import pandas\n",
        "\n",
        "od.download(\n",
        "    \"https://www.kaggle.com/datasets/muniryadi/cat-vs-rabbit\")"
      ],
      "metadata": {
        "id": "hb85XjiMB1h8"
      },
      "execution_count": null,
      "outputs": []
    },
    {
      "cell_type": "markdown",
      "source": [
        "## WITHOUT DATA AUGMENTATION"
      ],
      "metadata": {
        "id": "ppK7g5m8Boe9"
      }
    },
    {
      "cell_type": "code",
      "source": [
        "import numpy as np\n",
        "import cv2\n",
        "import os\n",
        "import random"
      ],
      "metadata": {
        "id": "S_gHv1r8CR1n"
      },
      "execution_count": null,
      "outputs": []
    },
    {
      "cell_type": "code",
      "source": [
        "my_dir = \"/content/cat-vs-rabbit/train-cat-rabbit\"\n",
        "categories=['cat','rabbit']"
      ],
      "metadata": {
        "id": "uRMB0Yw7CYsn"
      },
      "execution_count": null,
      "outputs": []
    },
    {
      "cell_type": "code",
      "source": [
        "data =[]\n",
        "\n",
        "for i in categories:\n",
        "  folder_path = os.path.join(my_dir,i)\n",
        "  if i==\"cat\":\n",
        "    label=0\n",
        "  else:\n",
        "    label=1\n",
        "\n",
        "  for j in os.listdir(folder_path):\n",
        "    img_path = os.path.join(folder_path,j)\n",
        "    img = cv2.imread(img_path)\n",
        "    img = cv2.resize(img,(300,300))\n",
        "    data.append([img,label])"
      ],
      "metadata": {
        "id": "7ck_vM9GCYvC"
      },
      "execution_count": null,
      "outputs": []
    },
    {
      "cell_type": "code",
      "source": [
        "random.shuffle(data)"
      ],
      "metadata": {
        "id": "GJjXDVizCYyi"
      },
      "execution_count": null,
      "outputs": []
    },
    {
      "cell_type": "code",
      "source": [
        "X=[]\n",
        "Y=[]\n",
        "\n",
        "for i in data :\n",
        "  X.append(i[0])\n",
        "  Y.append(i[1])"
      ],
      "metadata": {
        "id": "wbVvRGTNEKOJ"
      },
      "execution_count": null,
      "outputs": []
    },
    {
      "cell_type": "code",
      "source": [
        "X = np.array(X)\n",
        "Y = np.array(Y)"
      ],
      "metadata": {
        "id": "sQCDzk_5EKP1"
      },
      "execution_count": null,
      "outputs": []
    },
    {
      "cell_type": "code",
      "source": [
        "X = X/255"
      ],
      "metadata": {
        "id": "TvVKNBImEKTb"
      },
      "execution_count": null,
      "outputs": []
    },
    {
      "cell_type": "code",
      "source": [
        "from tensorflow.keras import Sequential\n",
        "from tensorflow.keras.layers import Dense,Flatten, Conv2D,MaxPooling2D,Dropout,Activation"
      ],
      "metadata": {
        "id": "jS385GGgB6Vw"
      },
      "execution_count": null,
      "outputs": []
    },
    {
      "cell_type": "code",
      "source": [],
      "metadata": {
        "id": "6hG5xkC9EJZR"
      },
      "execution_count": null,
      "outputs": []
    },
    {
      "cell_type": "code",
      "source": [
        "model = Sequential()\n",
        "model.add(Conv2D(32 , (3,3) , input_shape=(300,300,3)))\n",
        "model.add(Activation(\"relu\"))\n",
        "model.add(MaxPooling2D(pool_size=(2,2)))\n",
        "\n",
        "\n",
        "model.add(Conv2D(32 , (3,3)))\n",
        "model.add(Activation(\"relu\"))\n",
        "model.add(MaxPooling2D(pool_size=(2,2)))\n",
        "\n",
        "model.add(Conv2D(64 , (3,3)))\n",
        "model.add(Activation(\"relu\"))\n",
        "model.add(MaxPooling2D(pool_size=(2,2)))\n",
        "\n",
        "\n",
        "model.add(Flatten())\n",
        "model.add(Dense(64))\n",
        "model.add(Activation(\"relu\"))\n",
        "model.add(Dropout(0.5))\n",
        "model.add(Dense(1))\n",
        "model.add(Activation(\"sigmoid\"))\n"
      ],
      "metadata": {
        "id": "cFog_NjhB3F8"
      },
      "execution_count": null,
      "outputs": []
    },
    {
      "cell_type": "code",
      "source": [
        "model.compile(loss=\"binary_crossentropy\" , optimizer=\"adam\" , metrics=['accuracy'])"
      ],
      "metadata": {
        "id": "kNfZmo_wCC08"
      },
      "execution_count": null,
      "outputs": []
    },
    {
      "cell_type": "code",
      "source": [
        "model.fit(X,Y ,epochs=30 , validation_split=0.2)"
      ],
      "metadata": {
        "colab": {
          "base_uri": "https://localhost:8080/"
        },
        "id": "XQwsUEteCGum",
        "outputId": "b91f0ca9-46b2-45ba-f038-7b5cbf35fa57"
      },
      "execution_count": null,
      "outputs": [
        {
          "output_type": "stream",
          "name": "stdout",
          "text": [
            "Epoch 1/30\n",
            "40/40 [==============================] - 16s 97ms/step - loss: 0.6117 - accuracy: 0.6586 - val_loss: 0.5286 - val_accuracy: 0.7531\n",
            "Epoch 2/30\n",
            "40/40 [==============================] - 3s 68ms/step - loss: 0.4670 - accuracy: 0.7836 - val_loss: 0.5310 - val_accuracy: 0.7437\n",
            "Epoch 3/30\n",
            "40/40 [==============================] - 3s 78ms/step - loss: 0.4056 - accuracy: 0.8008 - val_loss: 0.5008 - val_accuracy: 0.7844\n",
            "Epoch 4/30\n",
            "40/40 [==============================] - 3s 69ms/step - loss: 0.3136 - accuracy: 0.8656 - val_loss: 0.4723 - val_accuracy: 0.8188\n",
            "Epoch 5/30\n",
            "40/40 [==============================] - 3s 69ms/step - loss: 0.2330 - accuracy: 0.8977 - val_loss: 0.4633 - val_accuracy: 0.8344\n",
            "Epoch 6/30\n",
            "40/40 [==============================] - 3s 69ms/step - loss: 0.1794 - accuracy: 0.9312 - val_loss: 0.5182 - val_accuracy: 0.8344\n",
            "Epoch 7/30\n",
            "40/40 [==============================] - 3s 80ms/step - loss: 0.1408 - accuracy: 0.9477 - val_loss: 0.4410 - val_accuracy: 0.8875\n",
            "Epoch 8/30\n",
            "40/40 [==============================] - 3s 76ms/step - loss: 0.0880 - accuracy: 0.9641 - val_loss: 0.5794 - val_accuracy: 0.9062\n",
            "Epoch 9/30\n",
            "40/40 [==============================] - 3s 70ms/step - loss: 0.0782 - accuracy: 0.9734 - val_loss: 0.6516 - val_accuracy: 0.8813\n",
            "Epoch 10/30\n",
            "40/40 [==============================] - 3s 70ms/step - loss: 0.0775 - accuracy: 0.9734 - val_loss: 0.6920 - val_accuracy: 0.9219\n",
            "Epoch 11/30\n",
            "40/40 [==============================] - 3s 71ms/step - loss: 0.0669 - accuracy: 0.9758 - val_loss: 0.6331 - val_accuracy: 0.8594\n",
            "Epoch 12/30\n",
            "40/40 [==============================] - 3s 79ms/step - loss: 0.0796 - accuracy: 0.9781 - val_loss: 0.6032 - val_accuracy: 0.8906\n",
            "Epoch 13/30\n",
            "40/40 [==============================] - 3s 70ms/step - loss: 0.0379 - accuracy: 0.9906 - val_loss: 0.7346 - val_accuracy: 0.8969\n",
            "Epoch 14/30\n",
            "40/40 [==============================] - 3s 71ms/step - loss: 0.0186 - accuracy: 0.9953 - val_loss: 0.7487 - val_accuracy: 0.8906\n",
            "Epoch 15/30\n",
            "40/40 [==============================] - 3s 70ms/step - loss: 0.0198 - accuracy: 0.9937 - val_loss: 1.1714 - val_accuracy: 0.8156\n",
            "Epoch 16/30\n",
            "40/40 [==============================] - 3s 86ms/step - loss: 0.0762 - accuracy: 0.9781 - val_loss: 0.6156 - val_accuracy: 0.9281\n",
            "Epoch 17/30\n",
            "40/40 [==============================] - 3s 70ms/step - loss: 0.0302 - accuracy: 0.9914 - val_loss: 0.7526 - val_accuracy: 0.8969\n",
            "Epoch 18/30\n",
            "40/40 [==============================] - 3s 70ms/step - loss: 0.0087 - accuracy: 0.9992 - val_loss: 0.8295 - val_accuracy: 0.8969\n",
            "Epoch 19/30\n",
            "40/40 [==============================] - 3s 69ms/step - loss: 0.0145 - accuracy: 0.9953 - val_loss: 0.9974 - val_accuracy: 0.8562\n",
            "Epoch 20/30\n",
            "40/40 [==============================] - 3s 84ms/step - loss: 0.0299 - accuracy: 0.9883 - val_loss: 0.7023 - val_accuracy: 0.8781\n",
            "Epoch 21/30\n",
            "40/40 [==============================] - 3s 72ms/step - loss: 0.0228 - accuracy: 0.9937 - val_loss: 0.8877 - val_accuracy: 0.8969\n",
            "Epoch 22/30\n",
            "40/40 [==============================] - 3s 70ms/step - loss: 0.0191 - accuracy: 0.9930 - val_loss: 0.8231 - val_accuracy: 0.9094\n",
            "Epoch 23/30\n",
            "40/40 [==============================] - 3s 69ms/step - loss: 0.0297 - accuracy: 0.9922 - val_loss: 0.8828 - val_accuracy: 0.8813\n",
            "Epoch 24/30\n",
            "40/40 [==============================] - 3s 74ms/step - loss: 0.0131 - accuracy: 0.9961 - val_loss: 0.9118 - val_accuracy: 0.9125\n",
            "Epoch 25/30\n",
            "40/40 [==============================] - 3s 76ms/step - loss: 0.0060 - accuracy: 0.9984 - val_loss: 1.0088 - val_accuracy: 0.9156\n",
            "Epoch 26/30\n",
            "40/40 [==============================] - 3s 68ms/step - loss: 0.0055 - accuracy: 0.9984 - val_loss: 1.0243 - val_accuracy: 0.9281\n",
            "Epoch 27/30\n",
            "40/40 [==============================] - 3s 69ms/step - loss: 0.0124 - accuracy: 0.9969 - val_loss: 0.8951 - val_accuracy: 0.8875\n",
            "Epoch 28/30\n",
            "40/40 [==============================] - 3s 70ms/step - loss: 0.0262 - accuracy: 0.9930 - val_loss: 0.8204 - val_accuracy: 0.8906\n",
            "Epoch 29/30\n",
            "40/40 [==============================] - 3s 80ms/step - loss: 0.0329 - accuracy: 0.9937 - val_loss: 0.9729 - val_accuracy: 0.8531\n",
            "Epoch 30/30\n",
            "40/40 [==============================] - 3s 70ms/step - loss: 0.0128 - accuracy: 0.9969 - val_loss: 0.8575 - val_accuracy: 0.9062\n"
          ]
        },
        {
          "output_type": "execute_result",
          "data": {
            "text/plain": [
              "<keras.src.callbacks.History at 0x78a979efead0>"
            ]
          },
          "metadata": {},
          "execution_count": 11
        }
      ]
    },
    {
      "cell_type": "markdown",
      "source": [
        "## WITH DATA AUGMENTATION"
      ],
      "metadata": {
        "id": "VlunWsbZBtFD"
      }
    },
    {
      "cell_type": "code",
      "source": [
        "import opendatasets as od\n",
        "import pandas\n",
        "\n",
        "od.download(\n",
        "    \"https://www.kaggle.com/datasets/muniryadi/cat-vs-rabbit\")\n"
      ],
      "metadata": {
        "colab": {
          "base_uri": "https://localhost:8080/"
        },
        "id": "K2M6b3r39bpG",
        "outputId": "6afdf6af-a6cd-47c3-a704-23ead53cc10e"
      },
      "execution_count": null,
      "outputs": [
        {
          "output_type": "stream",
          "name": "stdout",
          "text": [
            "Skipping, found downloaded files in \"./cat-vs-rabbit\" (use force=True to force download)\n"
          ]
        }
      ]
    },
    {
      "cell_type": "markdown",
      "source": [],
      "metadata": {
        "id": "kSEmJIpEB1D6"
      }
    },
    {
      "cell_type": "code",
      "source": [
        "batch_size = 16\n",
        "\n",
        "train_datagen = ImageDataGenerator(\n",
        "\n",
        "    rescale = 1.0/255,\n",
        "    shear_range=0.2,        # Shear transformations\n",
        "    rotation_range=40,      # Rotate images up to 40 degrees\n",
        "    width_shift_range=0.2,  # Shift images horizontally by up to 20%\n",
        "    height_shift_range=0.2, # Shift images vertically by up to 20%\n",
        "    zoom_range=0.2,         # Zoom in/out by up to 20%\n",
        "    horizontal_flip=True,   # Flip images horizontally\n",
        "    fill_mode='nearest'\n",
        "  )\n",
        "\n",
        "test_datagen = ImageDataGenerator(rescale=1.0/255)"
      ],
      "metadata": {
        "id": "8LYGKGoK5nMF"
      },
      "execution_count": null,
      "outputs": []
    },
    {
      "cell_type": "code",
      "source": [
        "train_generator = train_datagen.flow_from_directory(\n",
        "    \"/content/cat-vs-rabbit/train-cat-rabbit\",\n",
        "    target_size=(300,300),\n",
        "    batch_size = batch_size,\n",
        "    class_mode = \"binary\"\n",
        ")\n",
        "\n",
        "\n",
        "val_generator = test_datagen.flow_from_directory(\n",
        "    \"/content/cat-vs-rabbit/val-cat-rabbit\",\n",
        "    target_size=(300,300),\n",
        "    batch_size = batch_size,\n",
        "    class_mode = \"binary\"\n",
        ")"
      ],
      "metadata": {
        "colab": {
          "base_uri": "https://localhost:8080/"
        },
        "id": "GNqtPPZU7hMF",
        "outputId": "2165c397-69a4-48af-f554-0eb2f60a27ce"
      },
      "execution_count": null,
      "outputs": [
        {
          "output_type": "stream",
          "name": "stdout",
          "text": [
            "Found 1600 images belonging to 2 classes.\n",
            "Found 414 images belonging to 2 classes.\n"
          ]
        }
      ]
    },
    {
      "cell_type": "code",
      "source": [
        "from tensorflow.keras import Sequential\n",
        "from tensorflow.keras.layers import Dense,Flatten, Conv2D,MaxPooling2D,Dropout,Activation"
      ],
      "metadata": {
        "id": "8BcCOKh-_3Mn"
      },
      "execution_count": null,
      "outputs": []
    },
    {
      "cell_type": "code",
      "source": [
        "model = Sequential()\n",
        "model.add(Conv2D(32 , (3,3) , input_shape=(300,300,3)))\n",
        "model.add(Activation(\"relu\"))\n",
        "model.add(MaxPooling2D(pool_size=(2,2)))\n",
        "\n",
        "\n",
        "model.add(Conv2D(32 , (3,3) ))\n",
        "model.add(Activation(\"relu\"))\n",
        "model.add(MaxPooling2D(pool_size=(2,2)))\n",
        "\n",
        "model.add(Conv2D(64 , (3,3) ))\n",
        "model.add(Activation(\"relu\"))\n",
        "model.add(MaxPooling2D(pool_size=(2,2)))\n",
        "\n",
        "\n",
        "model.add(Flatten())\n",
        "model.add(Dense(64))\n",
        "model.add(Activation(\"relu\"))\n",
        "model.add(Dropout(0.5))\n",
        "model.add(Dense(1))\n",
        "model.add(Activation(\"sigmoid\"))\n"
      ],
      "metadata": {
        "id": "yMzZmfeM_FHP"
      },
      "execution_count": null,
      "outputs": []
    },
    {
      "cell_type": "code",
      "source": [
        "model.compile(loss=\"binary_crossentropy\" , optimizer=\"adam\" , metrics=['accuracy'])"
      ],
      "metadata": {
        "id": "5Kv1OQyEBEXA"
      },
      "execution_count": null,
      "outputs": []
    },
    {
      "cell_type": "code",
      "source": [
        "model.fit_generator(\n",
        "    train_generator,\n",
        "    epochs=30,\n",
        "    validation_data = val_generator,\n",
        "\n",
        ")"
      ],
      "metadata": {
        "colab": {
          "base_uri": "https://localhost:8080/"
        },
        "id": "2lDrORzuBkhw",
        "outputId": "194b7c2b-6fb5-4429-ee93-ee858a5ddb4c"
      },
      "execution_count": null,
      "outputs": [
        {
          "output_type": "stream",
          "name": "stderr",
          "text": [
            "<ipython-input-23-b54ccb14a13e>:1: UserWarning: `Model.fit_generator` is deprecated and will be removed in a future version. Please use `Model.fit`, which supports generators.\n",
            "  model.fit_generator(\n"
          ]
        },
        {
          "output_type": "stream",
          "name": "stdout",
          "text": [
            "Epoch 1/30\n",
            "100/100 [==============================] - 40s 375ms/step - loss: 0.6354 - accuracy: 0.6506 - val_loss: 0.5532 - val_accuracy: 0.6836\n",
            "Epoch 2/30\n",
            "100/100 [==============================] - 36s 358ms/step - loss: 0.5515 - accuracy: 0.7194 - val_loss: 0.5221 - val_accuracy: 0.7850\n",
            "Epoch 3/30\n",
            "100/100 [==============================] - 35s 349ms/step - loss: 0.4923 - accuracy: 0.7563 - val_loss: 0.5533 - val_accuracy: 0.7005\n",
            "Epoch 4/30\n",
            "100/100 [==============================] - 36s 356ms/step - loss: 0.5001 - accuracy: 0.7613 - val_loss: 0.4989 - val_accuracy: 0.7150\n",
            "Epoch 5/30\n",
            "100/100 [==============================] - 36s 356ms/step - loss: 0.4692 - accuracy: 0.7669 - val_loss: 0.4658 - val_accuracy: 0.8019\n",
            "Epoch 6/30\n",
            "100/100 [==============================] - 36s 358ms/step - loss: 0.4527 - accuracy: 0.7937 - val_loss: 0.4623 - val_accuracy: 0.7971\n",
            "Epoch 7/30\n",
            "100/100 [==============================] - 36s 361ms/step - loss: 0.4725 - accuracy: 0.7763 - val_loss: 0.5343 - val_accuracy: 0.7029\n",
            "Epoch 8/30\n",
            "100/100 [==============================] - 34s 344ms/step - loss: 0.4577 - accuracy: 0.7975 - val_loss: 0.4783 - val_accuracy: 0.7729\n",
            "Epoch 9/30\n",
            "100/100 [==============================] - 36s 356ms/step - loss: 0.4394 - accuracy: 0.8050 - val_loss: 0.7172 - val_accuracy: 0.6739\n",
            "Epoch 10/30\n",
            "100/100 [==============================] - 36s 357ms/step - loss: 0.4747 - accuracy: 0.7419 - val_loss: 0.4869 - val_accuracy: 0.7657\n",
            "Epoch 11/30\n",
            "100/100 [==============================] - 36s 357ms/step - loss: 0.4762 - accuracy: 0.7781 - val_loss: 0.4905 - val_accuracy: 0.7512\n",
            "Epoch 12/30\n",
            "100/100 [==============================] - 36s 358ms/step - loss: 0.4479 - accuracy: 0.7969 - val_loss: 0.4934 - val_accuracy: 0.7995\n",
            "Epoch 13/30\n",
            "100/100 [==============================] - 36s 358ms/step - loss: 0.4316 - accuracy: 0.8094 - val_loss: 0.4985 - val_accuracy: 0.8043\n",
            "Epoch 14/30\n",
            "100/100 [==============================] - 36s 358ms/step - loss: 0.4659 - accuracy: 0.8194 - val_loss: 0.5016 - val_accuracy: 0.7754\n",
            "Epoch 15/30\n",
            "100/100 [==============================] - 35s 355ms/step - loss: 0.4327 - accuracy: 0.8188 - val_loss: 0.4739 - val_accuracy: 0.7826\n",
            "Epoch 16/30\n",
            "100/100 [==============================] - 35s 345ms/step - loss: 0.4278 - accuracy: 0.8163 - val_loss: 0.4991 - val_accuracy: 0.7657\n",
            "Epoch 17/30\n",
            "100/100 [==============================] - 35s 354ms/step - loss: 0.4215 - accuracy: 0.8163 - val_loss: 0.4271 - val_accuracy: 0.8068\n",
            "Epoch 18/30\n",
            "100/100 [==============================] - 36s 359ms/step - loss: 0.4206 - accuracy: 0.8250 - val_loss: 0.4189 - val_accuracy: 0.8116\n",
            "Epoch 19/30\n",
            "100/100 [==============================] - 36s 355ms/step - loss: 0.4501 - accuracy: 0.8037 - val_loss: 0.4231 - val_accuracy: 0.8092\n",
            "Epoch 20/30\n",
            "100/100 [==============================] - 36s 356ms/step - loss: 0.4194 - accuracy: 0.8119 - val_loss: 0.5592 - val_accuracy: 0.7536\n",
            "Epoch 21/30\n",
            "100/100 [==============================] - 36s 358ms/step - loss: 0.4051 - accuracy: 0.8169 - val_loss: 0.4405 - val_accuracy: 0.8285\n",
            "Epoch 22/30\n",
            "100/100 [==============================] - 36s 355ms/step - loss: 0.4144 - accuracy: 0.8194 - val_loss: 0.4306 - val_accuracy: 0.8019\n",
            "Epoch 23/30\n",
            "100/100 [==============================] - 36s 361ms/step - loss: 0.4296 - accuracy: 0.8181 - val_loss: 0.4401 - val_accuracy: 0.8213\n",
            "Epoch 24/30\n",
            "100/100 [==============================] - 35s 348ms/step - loss: 0.3989 - accuracy: 0.8313 - val_loss: 0.5236 - val_accuracy: 0.7681\n",
            "Epoch 25/30\n",
            "100/100 [==============================] - 36s 359ms/step - loss: 0.4053 - accuracy: 0.8288 - val_loss: 0.4117 - val_accuracy: 0.8116\n",
            "Epoch 26/30\n",
            "100/100 [==============================] - 36s 356ms/step - loss: 0.4035 - accuracy: 0.8269 - val_loss: 0.4614 - val_accuracy: 0.7899\n",
            "Epoch 27/30\n",
            "100/100 [==============================] - 36s 355ms/step - loss: 0.3983 - accuracy: 0.8256 - val_loss: 0.4534 - val_accuracy: 0.7899\n",
            "Epoch 28/30\n",
            "100/100 [==============================] - 36s 356ms/step - loss: 0.3992 - accuracy: 0.8325 - val_loss: 0.4087 - val_accuracy: 0.8285\n",
            "Epoch 29/30\n",
            "100/100 [==============================] - 36s 364ms/step - loss: 0.3753 - accuracy: 0.8438 - val_loss: 0.3993 - val_accuracy: 0.8116\n",
            "Epoch 30/30\n",
            "100/100 [==============================] - 37s 372ms/step - loss: 0.3761 - accuracy: 0.8294 - val_loss: 0.3417 - val_accuracy: 0.8527\n"
          ]
        },
        {
          "output_type": "execute_result",
          "data": {
            "text/plain": [
              "<keras.src.callbacks.History at 0x78a9701a6440>"
            ]
          },
          "metadata": {},
          "execution_count": 23
        }
      ]
    },
    {
      "cell_type": "code",
      "source": [],
      "metadata": {
        "id": "1fQioMCGFiCB"
      },
      "execution_count": null,
      "outputs": []
    }
  ]
}