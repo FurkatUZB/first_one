{
  "nbformat": 4,
  "nbformat_minor": 0,
  "metadata": {
    "colab": {
      "private_outputs": true,
      "provenance": [],
      "gpuType": "T4",
      "authorship_tag": "ABX9TyOwEwbIgRnOBnqrY6LCzmqe",
      "include_colab_link": true
    },
    "kernelspec": {
      "name": "python3",
      "display_name": "Python 3"
    },
    "language_info": {
      "name": "python"
    },
    "accelerator": "GPU"
  },
  "cells": [
    {
      "cell_type": "markdown",
      "metadata": {
        "id": "view-in-github",
        "colab_type": "text"
      },
      "source": [
        "<a href=\"https://colab.research.google.com/github/FurkatUZB/first_one/blob/main/Deep_learning_MUSHUK__ANIQLASH.ipynb\" target=\"_parent\"><img src=\"https://colab.research.google.com/assets/colab-badge.svg\" alt=\"Open In Colab\"/></a>"
      ]
    },
    {
      "cell_type": "code",
      "execution_count": null,
      "metadata": {
        "id": "Fgd78J6H5I9O"
      },
      "outputs": [],
      "source": [
        "import torch\n",
        "torch.cuda.is_available()\n",
        "torch.__version__"
      ]
    },
    {
      "cell_type": "code",
      "source": [
        "import fastai\n",
        "fastai.__version__"
      ],
      "metadata": {
        "id": "KBzk0TUt57Ru"
      },
      "execution_count": null,
      "outputs": []
    },
    {
      "cell_type": "code",
      "source": [
        "from fastai.vision.all import *\n",
        "from ipywidgets import widgets\n",
        "\n",
        "# data\n",
        "path= untar_data(URLs.PETS)/'images'\n",
        "\n",
        "# labellovchi funksiya\n",
        "def is_cat(x): return x[0].isupper()\n",
        "\n",
        "# datalarni yuklovchi (dataloaders)\n",
        "\n",
        "dls= ImageDataLoaders.from_name_func(\n",
        "    path, get_image_files(path), valid=0.2, seed=42,\n",
        "    label_func= is_cat, item_tfms= Resize(224)\n",
        ")\n",
        "\n",
        "# training\n",
        "learn= cnn_learner(dls, resnet34, metrics=accuracy)\n",
        "learn.fine_tune(2)\n",
        "\n",
        "\n"
      ],
      "metadata": {
        "id": "kpAH-Ble73eG"
      },
      "execution_count": null,
      "outputs": []
    },
    {
      "cell_type": "code",
      "source": [
        "# mushuklar rasmini taniy oladimi yoki yo'qligini tekshirish uchun biz rasm yuklaymiz\n",
        "upload= widgets.FileUpload()\n",
        "upload"
      ],
      "metadata": {
        "id": "CvpEsh8IBQN2"
      },
      "execution_count": null,
      "outputs": []
    },
    {
      "cell_type": "code",
      "source": [
        "img=PILImage.create(upload.data[-1]) # rasm\n",
        "pred, _ , prob = learn.predict(img)  # bashorat qilish\n",
        "print(f'Mushukmi?: {pred}')\n",
        "print(f'Aniqlilik ehtimolligi: {prob[1].item():.3f}')\n",
        "img"
      ],
      "metadata": {
        "id": "kLSluPSNBwtf"
      },
      "execution_count": null,
      "outputs": []
    }
  ]
}