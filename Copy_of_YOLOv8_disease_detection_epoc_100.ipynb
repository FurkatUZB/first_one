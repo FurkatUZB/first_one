{
  "nbformat": 4,
  "nbformat_minor": 0,
  "metadata": {
    "colab": {
      "private_outputs": true,
      "provenance": [],
      "authorship_tag": "ABX9TyPEs7PqNYXRUv2pbdyHRBGd",
      "include_colab_link": true
    },
    "kernelspec": {
      "name": "python3",
      "display_name": "Python 3"
    },
    "language_info": {
      "name": "python"
    }
  },
  "cells": [
    {
      "cell_type": "markdown",
      "metadata": {
        "id": "view-in-github",
        "colab_type": "text"
      },
      "source": [
        "<a href=\"https://colab.research.google.com/github/FurkatUZB/first_one/blob/main/Copy_of_YOLOv8_disease_detection_epoc_100.ipynb\" target=\"_parent\"><img src=\"https://colab.research.google.com/assets/colab-badge.svg\" alt=\"Open In Colab\"/></a>"
      ]
    },
    {
      "cell_type": "code",
      "execution_count": null,
      "metadata": {
        "id": "d0PMVNxwpwgt"
      },
      "outputs": [],
      "source": [
        "### 1. Mount Google Drive ###\n",
        "\n",
        "from google.colab import drive\n",
        "import os\n",
        "\n",
        "drive.mount('/content/gdrive')"
      ]
    },
    {
      "cell_type": "code",
      "source": [
        "### 2. Define root directory ###\n",
        "\n",
        "ROOT_DIR = '/content/gdrive/My Drive/YOLOv8/Disease detection4000.v3i.yolov8'"
      ],
      "metadata": {
        "id": "CQAevgCQp8o1"
      },
      "execution_count": null,
      "outputs": []
    },
    {
      "cell_type": "code",
      "source": [
        "### 3. Install Ultralytics ###\n",
        "\n",
        "!pip install ultralytics"
      ],
      "metadata": {
        "id": "KHICViV6p8yN"
      },
      "execution_count": null,
      "outputs": []
    },
    {
      "cell_type": "code",
      "source": [
        "### 4. Train model ###\n",
        "from ultralytics import YOLO\n",
        "\n",
        "\n",
        "# Load a model\n",
        "model = YOLO(\"yolov8n.pt\")  # load pre trained model\n",
        "\n",
        "# Use the model\n",
        "results = model.train(data=os.path.join(ROOT_DIR, \"data.yaml\"), epochs=100)  # train the model"
      ],
      "metadata": {
        "id": "dorHTS0Up81V"
      },
      "execution_count": null,
      "outputs": []
    },
    {
      "cell_type": "code",
      "source": [
        "\n",
        "# Define the source directory (the results you want to save)\n",
        "# Make sure to replace 'your_model_output_directory' with the path to your actual output directory\n",
        "source_dir = '/content/runs/detect'\n",
        "\n",
        "# Define the destination directory on Google Drive\n",
        "destination_dir = '/content/gdrive/My Drive/YOLOv8/results2_epoc_100'\n",
        "\n",
        "# Check if destination directory exists and create if it does not\n",
        "if not os.path.exists(destination_dir):\n",
        "    os.makedirs(destination_dir)\n",
        "\n",
        "# Copy the entire directory 'source_dir' to 'destination_dir'\n",
        "shutil.copytree(source_dir, destination_dir, dirs_exist_ok=True)\n",
        "\n",
        "print(f\"Results have been saved to {destination_dir}\")"
      ],
      "metadata": {
        "id": "XcCgXJCap830"
      },
      "execution_count": null,
      "outputs": []
    },
    {
      "cell_type": "code",
      "source": [],
      "metadata": {
        "id": "IwWBESeip86M"
      },
      "execution_count": null,
      "outputs": []
    },
    {
      "cell_type": "code",
      "source": [],
      "metadata": {
        "id": "vU9bXdnCp88l"
      },
      "execution_count": null,
      "outputs": []
    }
  ]
}