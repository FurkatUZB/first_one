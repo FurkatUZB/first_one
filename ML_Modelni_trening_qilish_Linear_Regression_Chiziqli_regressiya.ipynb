{
  "nbformat": 4,
  "nbformat_minor": 0,
  "metadata": {
    "colab": {
      "private_outputs": true,
      "provenance": [],
      "authorship_tag": "ABX9TyOQRP4X6Zql9YT8MISrc6mP",
      "include_colab_link": true
    },
    "kernelspec": {
      "name": "python3",
      "display_name": "Python 3"
    },
    "language_info": {
      "name": "python"
    }
  },
  "cells": [
    {
      "cell_type": "markdown",
      "metadata": {
        "id": "view-in-github",
        "colab_type": "text"
      },
      "source": [
        "<a href=\"https://colab.research.google.com/github/FurkatUZB/first_one/blob/main/ML_Modelni_trening_qilish_Linear_Regression_Chiziqli_regressiya.ipynb\" target=\"_parent\"><img src=\"https://colab.research.google.com/assets/colab-badge.svg\" alt=\"Open In Colab\"/></a>"
      ]
    },
    {
      "cell_type": "markdown",
      "source": [
        "Data Science va Sun'iy Intellekt Praktikum\n",
        "5-MODUL. Machine Learning\n",
        "5.1 - ML loyiha qadamlari\n",
        "Machine Learning\n",
        "Nihoyat ma'lumotlarimiz ML uchun tayyor.\n",
        "\n",
        "Boshlanishiga kerakli modullar va ma'lumotlarni qayta o'qib olamiz."
      ],
      "metadata": {
        "id": "sv4dSyb910sO"
      }
    },
    {
      "cell_type": "code",
      "execution_count": null,
      "metadata": {
        "id": "6BgZAnnw1kv2"
      },
      "outputs": [],
      "source": [
        "import pandas as pd\n",
        "import numpy as np\n",
        "import sklearn # scikit-learn kutubxonasi"
      ]
    },
    {
      "cell_type": "markdown",
      "source": [
        "Ma'lumotlarni o'qiymiz"
      ],
      "metadata": {
        "id": "Cqa66EbV175j"
      }
    },
    {
      "cell_type": "code",
      "source": [
        "# Onlayn dataset joylashgan manzilini ko'rsatamiaz\n",
        "URL = \"https://github.com/ageron/handson-ml2/blob/master/datasets/housing/housing.csv?raw=true\"\n",
        "df = pd.read_csv(URL)"
      ],
      "metadata": {
        "id": "ClrzyrXU18jS"
      },
      "execution_count": null,
      "outputs": []
    },
    {
      "cell_type": "markdown",
      "source": [
        "Ma'lumotlarni train va testga ajratamiz."
      ],
      "metadata": {
        "id": "VfEwLHfl1_G6"
      }
    },
    {
      "cell_type": "code",
      "source": [
        "from sklearn.model_selection import train_test_split\n",
        "train_set, test_set = train_test_split(df, test_size=0.2, random_state=42)\n",
        "\n",
        "X_train = train_set.drop(\"median_house_value\", axis=1)\n",
        "y = train_set[\"median_house_value\"].copy()\n",
        "\n",
        "X_num = X_train.drop(\"ocean_proximity\", axis=1)"
      ],
      "metadata": {
        "id": "znQLCBxh2B-6"
      },
      "execution_count": null,
      "outputs": []
    },
    {
      "cell_type": "markdown",
      "source": [
        "Pipeline quramiz"
      ],
      "metadata": {
        "id": "xgUo92GY2GaS"
      }
    },
    {
      "cell_type": "code",
      "source": [
        "from sklearn.base import BaseEstimator, TransformerMixin\n",
        "# bizga kerak ustunlar indekslari\n",
        "rooms_ix, bedrooms_ix, population_ix, households_ix = 3, 4, 5, 6\n",
        "\n",
        "class CombinedAttributesAdder(BaseEstimator, TransformerMixin):\n",
        "    def __init__(self, add_bedrooms_per_room = True):\n",
        "        self.add_bedrooms_per_room = add_bedrooms_per_room\n",
        "    def fit(self, X, y=None):\n",
        "        return self # bizni funksiyamiz faqat transformer. estimator emas\n",
        "    def transform(self, X):\n",
        "        rooms_per_household = X[:, rooms_ix] / X[:, households_ix]\n",
        "        population_per_household = X[:, population_ix] / X[:, households_ix]\n",
        "        if self.add_bedrooms_per_room: # add_bedrooms_per_room ustuni ixtiyoriy bo'ladi\n",
        "            bedrooms_per_room = X[:, bedrooms_ix] / X[:, rooms_ix]\n",
        "            return np.c_[X, rooms_per_household, population_per_household, bedrooms_per_room]\n",
        "        else:\n",
        "            return np.c_[X, rooms_per_household, population_per_household]"
      ],
      "metadata": {
        "id": "0Jd5D--g2HzK"
      },
      "execution_count": null,
      "outputs": []
    },
    {
      "cell_type": "markdown",
      "source": [
        "Sonli ustunlar uchun"
      ],
      "metadata": {
        "id": "bkUgrXHO2M3y"
      }
    },
    {
      "cell_type": "code",
      "source": [
        "from sklearn.pipeline import Pipeline\n",
        "from sklearn.impute import SimpleImputer\n",
        "from sklearn.preprocessing import OneHotEncoder, StandardScaler\n",
        "\n",
        "num_pipeline = Pipeline([\n",
        "          ('imputer', SimpleImputer(strategy='median')),\n",
        "          ('attribs_adder', CombinedAttributesAdder(add_bedrooms_per_room = True)),\n",
        "          ('std_scaler', StandardScaler())\n",
        "])"
      ],
      "metadata": {
        "id": "DlgxW6TO2QHC"
      },
      "execution_count": null,
      "outputs": []
    },
    {
      "cell_type": "markdown",
      "source": [
        "Matnli ustunlar uchun"
      ],
      "metadata": {
        "id": "CGhx5YaO2S96"
      }
    },
    {
      "cell_type": "code",
      "source": [
        "from sklearn.compose import ColumnTransformer\n",
        "\n",
        "num_attribs = list(X_num)\n",
        "cat_attribs = ['ocean_proximity']\n",
        "\n",
        "full_pipeline = ColumnTransformer([\n",
        "    ('num', num_pipeline, num_attribs),\n",
        "    ('cat', OneHotEncoder(), cat_attribs)\n",
        "])"
      ],
      "metadata": {
        "id": "SwuEvAQk2Vzy"
      },
      "execution_count": null,
      "outputs": []
    },
    {
      "cell_type": "markdown",
      "source": [
        "Mana yakuniy, to'liq konveyer tayyor bo'ldi (full_pipeline).\n",
        "\n",
        "Konveyerni ishga tushirish uchun .fit_transform() metodini chaqrisih kifoya."
      ],
      "metadata": {
        "id": "e_LZCPVL2ZAh"
      }
    },
    {
      "cell_type": "code",
      "source": [
        "X_prepared = full_pipeline.fit_transform(X_train)"
      ],
      "metadata": {
        "id": "tQ_Obzhw2d1i"
      },
      "execution_count": null,
      "outputs": []
    },
    {
      "cell_type": "code",
      "source": [
        "X_prepared[0:5,:]"
      ],
      "metadata": {
        "id": "yhSzkvvB2fQB"
      },
      "execution_count": null,
      "outputs": []
    },
    {
      "cell_type": "markdown",
      "source": [
        "array([[ 1.27258656, -1.3728112 ,  0.34849025,  0.22256942,  0.21122752,\n",
        "         0.76827628,  0.32290591, -0.326196  , -0.17491646,  0.05137609,\n",
        "        -0.2117846 ,  0.        ,  0.        ,  0.        ,  0.        ,\n",
        "         1.        ],\n",
        "       [ 0.70916212, -0.87669601,  1.61811813,  0.34029326,  0.59309419,\n",
        "        -0.09890135,  0.6720272 , -0.03584338, -0.40283542, -0.11736222,\n",
        "         0.34218528,  0.        ,  0.        ,  0.        ,  0.        ,\n",
        "         1.        ],\n",
        "       [-0.44760309, -0.46014647, -1.95271028, -0.34259695, -0.49522582,\n",
        "        -0.44981806, -0.43046109,  0.14470145,  0.08821601, -0.03227969,\n",
        "        -0.66165785,  0.        ,  0.        ,  0.        ,  0.        ,\n",
        "         1.        ],\n",
        "       [ 1.23269811, -1.38217186,  0.58654547, -0.56148971, -0.40930582,\n",
        "        -0.00743434, -0.38058662, -1.01786438, -0.60001532,  0.07750687,\n",
        "         0.78303162,  0.        ,  0.        ,  0.        ,  0.        ,\n",
        "         1.        ],\n",
        "       [-0.10855122,  0.5320839 ,  1.14200767, -0.11956547, -0.25655915,\n",
        "        -0.48587717, -0.31496232, -0.17148831,  0.3490073 , -0.06883176,\n",
        "        -0.55036364,  0.        ,  1.        ,  0.        ,  0.        ,\n",
        "         0.        ]])\n",
        "Ma'lumotlar ML uchun tayyor.\n",
        "\n",
        "Machine Learning\n",
        "Bizning maqsadimiz bashorat qilish, buning uchun bir nechta ML algoritmlar mavjud.\n",
        "\n",
        "Biz kelgusi darslarda ularning har biri bilan yaqinda tanishamiz, hozir esa scikit-learn tarkibidagi ba'zi tayyor algoritmlardan foydalanamiz.\n",
        "\n",
        "Linear Regression - Chiziqli regressiya\n",
        "sklearn tarkibidagi LinearRegression klassidan yangi model yaratamiz."
      ],
      "metadata": {
        "id": "dgVfW_-t2oqa"
      }
    },
    {
      "cell_type": "code",
      "source": [
        "from sklearn.linear_model import LinearRegression\n",
        "\n",
        "LR_model = LinearRegression()"
      ],
      "metadata": {
        "id": "C-Oc8ITG2plJ"
      },
      "execution_count": null,
      "outputs": []
    },
    {
      "cell_type": "markdown",
      "source": [
        "LinearRegression bu estimator. Estimatorlar ma'lumotlarni qabul qilib oladi va .fit() metodi yordamida ulardan basorat qilishni o'rganadi (machine learning)"
      ],
      "metadata": {
        "id": "-_rVrm3V2u5q"
      }
    },
    {
      "cell_type": "code",
      "source": [
        "LR_model.fit(X_prepared, y)"
      ],
      "metadata": {
        "id": "utbLXXXy2yGM"
      },
      "execution_count": null,
      "outputs": []
    },
    {
      "cell_type": "markdown",
      "source": [
        "LinearRegression()\n",
        "TAMOM! Machine Learning tugadi! Ha, adashmadingiz, bor yo'g'i 3 qator kod bilan biz hozirgina kompyuterga uylarni narxini bashorat qilishni o'rgatdik.\n",
        "\n",
        "Modelni qanday qilib tekshirib ko'rishimiz mumkin? Keling housing datasetdan biror qatorni modelga beramiz va chiqqan natijani bizdagi bor natija (label) bilan solishtiramiz."
      ],
      "metadata": {
        "id": "JtyhyXeF210p"
      }
    },
    {
      "cell_type": "code",
      "source": [
        "# tasodifiy 5 ta qatorni ajratib olamiz\n",
        "test_data = X_train.sample(5)\n",
        "test_data"
      ],
      "metadata": {
        "id": "rflFLWLc255Q"
      },
      "execution_count": null,
      "outputs": []
    },
    {
      "cell_type": "code",
      "source": [
        "# yuqoridagi qatorlarga mos keluvchi narxlarni ajratib olamiz (biz aynan shu qiymatlarni bashorat qilishimiz kerak)\n",
        "test_label = y.loc[test_data.index]\n",
        "test_label"
      ],
      "metadata": {
        "id": "qXhBgAbv28_K"
      },
      "execution_count": null,
      "outputs": []
    },
    {
      "cell_type": "markdown",
      "source": [
        "6211     218800.0\n",
        "14295    199100.0\n",
        "12320     61000.0\n",
        "19065    173300.0\n",
        "16727    250600.0\n",
        "Name: median_house_value, dtype: float64\n",
        "test_data ni pipelinedan o'tkazib, bizga kerak ko'rinishga keltirib olamiz.\n",
        "\n",
        "Ahamiyat bering bu safgar biz .transform() metodini chaqiramiz, sababi .fit() metodini avval chaqirgan edik."
      ],
      "metadata": {
        "id": "tto0uFs53Aah"
      }
    },
    {
      "cell_type": "code",
      "source": [
        "test_data_prepared = full_pipeline.transform(test_data)\n",
        "test_data_prepared"
      ],
      "metadata": {
        "id": "G1IR7o4E3DeB"
      },
      "execution_count": null,
      "outputs": []
    },
    {
      "cell_type": "markdown",
      "source": [
        "array([[ 0.84378566, -0.73628606,  0.50719373, -0.83142678, -0.95823916,\n",
        "        -0.90979159, -0.98958015,  0.33459385,  0.56350326,  0.00777575,\n",
        "        -0.83784003,  1.        ,  0.        ,  0.        ,  0.        ,\n",
        "         0.        ],\n",
        "       [ 1.22272599, -1.36813087,  1.85617335, -0.49756934, -0.55250582,\n",
        "        -0.58877756, -0.4855855 , -0.6157084 , -0.20225927, -0.0599208 ,\n",
        "        -0.27698044,  0.        ,  0.        ,  0.        ,  0.        ,\n",
        "         1.        ],\n",
        "       [ 1.53186153, -0.82053203, -0.60373066, -0.62449035, -0.55489249,\n",
        "        -0.78226547, -0.70083322, -1.01392579,  0.03162339, -0.06842401,\n",
        "         0.43900995,  0.        ,  1.        ,  0.        ,  0.        ,\n",
        "         0.        ],\n",
        "       [-1.43484237,  1.23881402, -0.60373066, -0.10071126,  0.05132085,\n",
        "        -0.2888713 ,  0.00790925, -0.7965158 , -0.25892721, -0.0789452 ,\n",
        "         0.31487031,  0.        ,  0.        ,  0.        ,  1.        ,\n",
        "         0.        ],\n",
        "       [-0.58721269, -0.05763792, -1.71465506,  3.20567298,  2.69097422,\n",
        "         2.691722  ,  3.02662719, -0.11240951,  0.15928101, -0.0330359 ,\n",
        "        -0.68198853,  1.        ,  0.        ,  0.        ,  0.        ,\n",
        "         0.        ]])\n",
        "Bashorat (predict) qilamiz:"
      ],
      "metadata": {
        "id": "PkGVsC0G3EQC"
      }
    },
    {
      "cell_type": "code",
      "source": [
        "predicted_data = LR_model.predict(test_data_prepared)\n",
        "predicted_data"
      ],
      "metadata": {
        "id": "MvBKAReE3SKK"
      },
      "execution_count": null,
      "outputs": []
    },
    {
      "cell_type": "markdown",
      "source": [
        "array([228852.74349408, 203387.28874123,  64236.23414498, 168843.70532715,\n",
        "       241650.14389617])\n",
        "Yuoqirda ko'rib turganingiz bashorat qilingan qiymatlar. Xo'sh, ular real qiymatlardan qanday farq qiladi, solishtiramiz:"
      ],
      "metadata": {
        "id": "lsfkvbRY3VR6"
      }
    },
    {
      "cell_type": "code",
      "source": [
        "pd.DataFrame({'Prognoz':predicted_data, 'Real baxosi': test_label})"
      ],
      "metadata": {
        "id": "hRjvUK563X5y"
      },
      "execution_count": null,
      "outputs": []
    },
    {
      "cell_type": "markdown",
      "source": [
        "\n",
        "5-QADAM. Modelni baholaymiz\n",
        "Ko'rib turganingizdek, modelimiz qayerdadur kamroq, qayeradur ko'proq xato bilan bashorat qilgan.\n",
        "Lekin model aniqligini baxolash uchun 5 qator yetarli emas. Keling, avvalroq ajratib olgan test set yordamida sinab ko'ramiz:"
      ],
      "metadata": {
        "id": "8NZQ0YGB3dIL"
      }
    },
    {
      "cell_type": "code",
      "source": [
        "test_set"
      ],
      "metadata": {
        "id": "VdPX9hHB3gmk"
      },
      "execution_count": null,
      "outputs": []
    },
    {
      "cell_type": "markdown",
      "source": [
        "Avval predictor ustunlarni ajratib olaylik (median_house_value) dan boshqa barcha ustunlar):"
      ],
      "metadata": {
        "id": "gGsyKm-g3oUU"
      }
    },
    {
      "cell_type": "code",
      "source": [
        "X_test = test_set.drop('median_house_value', axis=1)\n",
        "X_test"
      ],
      "metadata": {
        "id": "Piq_eaJx3s4K"
      },
      "execution_count": null,
      "outputs": []
    },
    {
      "cell_type": "markdown",
      "source": [
        "Label (median_house_value) ustunini ajratib olamiz."
      ],
      "metadata": {
        "id": "emAQBzwt3v97"
      }
    },
    {
      "cell_type": "code",
      "source": [
        "y_test = test_set['median_house_value'].copy()\n",
        "y_test"
      ],
      "metadata": {
        "id": "QX7mt0Pt3yWq"
      },
      "execution_count": null,
      "outputs": []
    },
    {
      "cell_type": "markdown",
      "source": [
        "Name: median_house_value, Length: 4128, dtype: float64\n",
        "test_set ni ham pipelinedan o'tkazamiz:"
      ],
      "metadata": {
        "id": "uNzPvu5V31Xq"
      }
    },
    {
      "cell_type": "code",
      "source": [
        "X_test_prepared = full_pipeline.transform(X_test)"
      ],
      "metadata": {
        "id": "oON9TC2Z34fi"
      },
      "execution_count": null,
      "outputs": []
    },
    {
      "cell_type": "markdown",
      "source": [
        "Bashorat"
      ],
      "metadata": {
        "id": "RV0n5zqC37NB"
      }
    },
    {
      "cell_type": "code",
      "source": [
        "y_predicted = LR_model.predict(X_test_prepared)"
      ],
      "metadata": {
        "id": "VUnF6Qnl3--a"
      },
      "execution_count": null,
      "outputs": []
    },
    {
      "cell_type": "markdown",
      "source": [
        "Bashorat va real datani solishtirish uchun avvalgi bo'limda ko'rgan Root mean square error (RMSE) dan foydalanamiz:"
      ],
      "metadata": {
        "id": "2Gq3H-2V4CAi"
      }
    },
    {
      "cell_type": "code",
      "source": [
        "from sklearn.metrics import mean_squared_error\n",
        "lin_mse = mean_squared_error(y_test, y_predicted)\n",
        "# RMSE hisoblaymiz\n",
        "lin_rmse = np.sqrt(lin_mse)\n",
        "print(lin_rmse)"
      ],
      "metadata": {
        "id": "Jx8-r3ua4E8y"
      },
      "execution_count": null,
      "outputs": []
    },
    {
      "cell_type": "markdown",
      "source": [
        "72701.32600762139\n",
        "Demak, RMSE=72701$ chiqdi. Yomon emas, lekin yaxshi ham emas. Ya'ni modelimiz uylarni baholashda o'rtacha 72000$ ga adashayapti.\n",
        "\n",
        "Model aniqligini oshirish uchun yagona, universal yechim yo'q. Qilib ko'rishingiz mumkin bo'lgan ishlar:\n",
        "\n",
        "Yaxhsiroq paramterlar topish\n",
        "Yaxhsiroq model (algoritm) tanlash\n",
        "Ko'proq ma'lumot yig'ish va hokazo.\n",
        "Biz hozir boshqa model bilan sinab ko'ramiz.\n",
        "\n",
        "DecisionTree"
      ],
      "metadata": {
        "id": "CGWNaKbl4I27"
      }
    },
    {
      "cell_type": "code",
      "source": [
        "from sklearn.tree import DecisionTreeRegressor\n",
        "Tree_model = DecisionTreeRegressor()\n",
        "Tree_model.fit(X_prepared, y)"
      ],
      "metadata": {
        "id": "vN9tKh0z4MDR"
      },
      "execution_count": null,
      "outputs": []
    },
    {
      "cell_type": "markdown",
      "source": [
        "DecisionTreeRegressor()\n",
        "Modelni tekshiramiz:"
      ],
      "metadata": {
        "id": "qK6NfnKE4PT6"
      }
    },
    {
      "cell_type": "code",
      "source": [
        "y_predicted = Tree_model.predict(X_test_prepared)"
      ],
      "metadata": {
        "id": "Y2KCL8Qr4SBB"
      },
      "execution_count": null,
      "outputs": []
    },
    {
      "cell_type": "code",
      "source": [
        "lin_mse = mean_squared_error(y_test, y_predicted)\n",
        "# RMSE hisoblaymiz\n",
        "lin_rmse = np.sqrt(lin_mse)\n",
        "print(lin_rmse)"
      ],
      "metadata": {
        "id": "ekckU_R54U_Z"
      },
      "execution_count": null,
      "outputs": []
    },
    {
      "cell_type": "markdown",
      "source": [
        "72562.00852508846\n",
        "Avvalgidan katta farq qilmadi.\n",
        "\n",
        "RandomForest"
      ],
      "metadata": {
        "id": "-H0tSxcE4Xrq"
      }
    },
    {
      "cell_type": "code",
      "source": [
        "from sklearn.ensemble import RandomForestRegressor\n",
        "RF_model = RandomForestRegressor()\n",
        "RF_model.fit(X_prepared, y)"
      ],
      "metadata": {
        "id": "9UFFIuYa4aWp"
      },
      "execution_count": null,
      "outputs": []
    },
    {
      "cell_type": "markdown",
      "source": [
        "RandomForestRegressor()\n",
        "Modelni tekshiramiz:"
      ],
      "metadata": {
        "id": "z-C5dWZY4ccq"
      }
    },
    {
      "cell_type": "code",
      "source": [
        "y_predicted = RF_model.predict(X_test_prepared)\n",
        "lin_mse = mean_squared_error(y_test, y_predicted)\n",
        "# RMSE hisoblaymiz\n",
        "lin_rmse = np.sqrt(lin_mse)\n",
        "print(lin_rmse)"
      ],
      "metadata": {
        "id": "0Z7Sg1IS4e6K"
      },
      "execution_count": null,
      "outputs": []
    },
    {
      "cell_type": "markdown",
      "source": [
        "50331.07889872079\n",
        "Avvalgidan yaxhsiroq.\n",
        "\n",
        "Cross-Validation usuli bilan baholash\n",
        "Yuqorida biz modelni baholash uchun ma'lumotlarni test va train setlarga ajratdik.\n",
        "Bu usulning kamchiligi biz test va train uchun doim bir xil ma'lumotlardan foydalanayapmiz.\n",
        "\n",
        "Cross-validation yordamida biz ma'lumotlarni bir necha qismga ajratib, modelni turli qismlar yordamida bir nechta bor train va test qilishimiz mumkin.\n",
        "\n",
        "Misol uchun, quyidagi rasmda ma'lumotlarni 5 ga ajratib train va test qilish ko'rsatilgan.\n",
        "\n",
        "alt\n",
        "\n",
        "Cross validation uchun ma'lumotlarni train va testga bo'lish shart emas, buni sklearn o'zi qiladi."
      ],
      "metadata": {
        "id": "zc7Kcwq24kAa"
      }
    },
    {
      "cell_type": "code",
      "source": [
        "X = df.drop(\"median_house_value\", axis=1)\n",
        "y = df[\"median_house_value\"].copy()\n",
        "\n",
        "X_prepared = full_pipeline.transform(X)"
      ],
      "metadata": {
        "id": "BRxpLHsI4nPj"
      },
      "execution_count": null,
      "outputs": []
    },
    {
      "cell_type": "markdown",
      "source": [
        "Validation natijalarini ko'rsatish uchun sodda funksiya yasab olamiz"
      ],
      "metadata": {
        "id": "9muTPUGC4puZ"
      }
    },
    {
      "cell_type": "code",
      "source": [
        "def display_scores(scores):\n",
        "    print(\"Scores:\", scores)\n",
        "    print(\"Mean:\", scores.mean())\n",
        "    print(\"Std.dev:\", scores.std())"
      ],
      "metadata": {
        "id": "krvGYY7B4sHh"
      },
      "execution_count": null,
      "outputs": []
    },
    {
      "cell_type": "markdown",
      "source": [
        "Cross-validation"
      ],
      "metadata": {
        "id": "gJaCV3Ir4urz"
      }
    },
    {
      "cell_type": "code",
      "source": [
        "from sklearn.model_selection import cross_val_score"
      ],
      "metadata": {
        "id": "8J0yR8f74xx5"
      },
      "execution_count": null,
      "outputs": []
    },
    {
      "cell_type": "markdown",
      "source": [
        "LogisticRegression"
      ],
      "metadata": {
        "id": "Wh5uVaDo40kx"
      }
    },
    {
      "cell_type": "code",
      "source": [
        "scores = cross_val_score(LR_model, X_prepared, y, scoring=\"neg_mean_squared_error\", cv=10)\n",
        "LR_rmse_scores = np.sqrt(-scores)"
      ],
      "metadata": {
        "id": "0N4Ehz3N44Ai"
      },
      "execution_count": null,
      "outputs": []
    },
    {
      "cell_type": "code",
      "source": [
        "display_scores(LR_rmse_scores)"
      ],
      "metadata": {
        "id": "YCg3GvcT44_M"
      },
      "execution_count": null,
      "outputs": []
    },
    {
      "cell_type": "markdown",
      "source": [
        "Scores: [73394.92502922 74814.24096819 75431.93119241 76608.78768825\n",
        " 66196.48128669]\n",
        "Mean: 73289.27323295096\n",
        "Std.dev: 3694.713678722354\n",
        "Decision Tree"
      ],
      "metadata": {
        "id": "uKpbhtXN4-Tk"
      }
    },
    {
      "cell_type": "code",
      "source": [
        "scores = cross_val_score(Tree_model, X_prepared, y, scoring=\"neg_mean_squared_error\", cv=10)\n",
        "LR_rmse_scores = np.sqrt(-scores)\n",
        "display_scores(LR_rmse_scores)"
      ],
      "metadata": {
        "id": "5QqlvDnL5BEr"
      },
      "execution_count": null,
      "outputs": []
    },
    {
      "cell_type": "markdown",
      "source": [
        "Scores: [117426.24650262  71236.93347566  84784.96821511  74123.27730087\n",
        "  89750.15887077  76806.63059624  69589.05516706 102133.30525079\n",
        "  95246.44610184  75049.59397392]\n",
        "Mean: 85614.66154548783\n",
        "Std.dev: 14765.492299059766\n",
        "Random Forest"
      ],
      "metadata": {
        "id": "zH4jdHR-5E5a"
      }
    },
    {
      "cell_type": "code",
      "source": [
        "scores = cross_val_score(RF_model, X_prepared, y, scoring=\"neg_mean_squared_error\", cv=10)\n",
        "LR_rmse_scores = np.sqrt(-scores)\n",
        "display_scores(LR_rmse_scores)"
      ],
      "metadata": {
        "id": "IltZ9Suh5HuM"
      },
      "execution_count": null,
      "outputs": []
    },
    {
      "cell_type": "markdown",
      "source": [
        "Scores: [96963.10192753 47862.65729636 64981.93435835 56938.85521984\n",
        " 60802.46090989 60535.50319764 46989.4400147  79484.26918866\n",
        " 74040.3414757  49323.01936423]\n",
        "Mean: 63792.158295289555\n",
        "Std.dev: 15049.727081731291\n",
        "Modelni saqlash\n",
        "Yaratgan modelimizdan kelajakda foydalanish uchun saqlab qo'yishimiz lozim. Umuman olganda nafaqat model, balki boshqa kerak bo'ladigan o'zgaruvchilarni ham saqlab qo'yish maqsadga muvvofiq bo'ladi. Masalan pipeline.\n",
        "\n",
        "Buning uchun Pythondagi pickle yoki joblib modullaridan foydalanamiz.\n",
        "\n",
        "pickle yordamida saqlash"
      ],
      "metadata": {
        "id": "RjEDCUzd5K1S"
      }
    },
    {
      "cell_type": "code",
      "source": [
        "import pickle\n",
        "\n",
        "filename = 'RF_model.pkl' # faylga istalgan nom beramiz\n",
        "with open(filename, 'wb') as file:\n",
        "    pickle.dump(RF_model, file)"
      ],
      "metadata": {
        "id": "HZKbK2X95SpK"
      },
      "execution_count": null,
      "outputs": []
    },
    {
      "cell_type": "markdown",
      "source": [
        "Modelni qayta o'qiymiz:"
      ],
      "metadata": {
        "id": "BE7M7G2_5Ver"
      }
    },
    {
      "cell_type": "code",
      "source": [
        "with open(filename, 'rb') as file:\n",
        "    model = pickle.load(file)"
      ],
      "metadata": {
        "id": "VG12MDe85X76"
      },
      "execution_count": null,
      "outputs": []
    },
    {
      "cell_type": "markdown",
      "source": [
        "Modelni sinab ko'ramiz"
      ],
      "metadata": {
        "id": "0YuQsBSc5ayi"
      }
    },
    {
      "cell_type": "code",
      "source": [
        "scores = cross_val_score(model, X_prepared, y, scoring=\"neg_mean_squared_error\", cv=5)\n",
        "LR_rmse_scores = np.sqrt(-scores)\n",
        "display_scores(LR_rmse_scores)"
      ],
      "metadata": {
        "id": "vqi2XizB5dpi"
      },
      "execution_count": null,
      "outputs": []
    },
    {
      "cell_type": "markdown",
      "source": [
        "Scores: [76978.93742397 64329.3404101  61109.46641995 81775.30419816\n",
        " 62027.72651085]\n",
        "Mean: 69244.15499260693\n",
        "Std.dev: 8476.579030000677\n",
        "joblib yordamida saqlash\n",
        "joblib katta NumPy martrisalarni siqib saqlash uchun afzal.\n",
        "\n",
        "joblib o'rnatilmagan bo'lsa pip install joblib yordamida o'rnatib oling."
      ],
      "metadata": {
        "id": "L8NSmRrW5kL1"
      }
    },
    {
      "cell_type": "code",
      "source": [
        "import joblib\n",
        "\n",
        "filename = 'RF_model.jbl' # faylga istalgan nom beramiz\n",
        "joblib.dump(RF_model, filename)"
      ],
      "metadata": {
        "id": "I6VB1uGL5giq"
      },
      "execution_count": null,
      "outputs": []
    },
    {
      "cell_type": "markdown",
      "source": [
        "['RF_model.jbl']\n",
        "Modelni o'qiymiz"
      ],
      "metadata": {
        "id": "Cq6gev2t5pqy"
      }
    },
    {
      "cell_type": "code",
      "source": [
        "model = joblib.load(filename)"
      ],
      "metadata": {
        "id": "eWEoKvXg5uDS"
      },
      "execution_count": null,
      "outputs": []
    },
    {
      "cell_type": "code",
      "source": [
        "scores = cross_val_score(model, X_prepared, y, scoring=\"neg_mean_squared_error\", cv=5)\n",
        "LR_rmse_scores = np.sqrt(-scores)\n",
        "display_scores(LR_rmse_scores)"
      ],
      "metadata": {
        "id": "UVSOKw5S5yxi"
      },
      "execution_count": null,
      "outputs": []
    },
    {
      "cell_type": "markdown",
      "source": [
        "Scores: [77460.56831558 63838.3153173  61358.53227924 80371.60644565\n",
        " 62380.21986169]\n",
        "Mean: 69081.84844389423\n",
        "Std.dev: 8120.562299609714\n",
        "pipeline saqlab olamiz"
      ],
      "metadata": {
        "id": "p_FDjTlo51dW"
      }
    },
    {
      "cell_type": "code",
      "source": [
        "filename = 'pipeline.jbl'\n",
        "joblib.dump(full_pipeline, filename)"
      ],
      "metadata": {
        "id": "75Wodj0J54Zm"
      },
      "execution_count": null,
      "outputs": []
    },
    {
      "cell_type": "markdown",
      "source": [
        "['pipeline.jbl']"
      ],
      "metadata": {
        "id": "EeEGSPEq58Ku"
      }
    }
  ]
}