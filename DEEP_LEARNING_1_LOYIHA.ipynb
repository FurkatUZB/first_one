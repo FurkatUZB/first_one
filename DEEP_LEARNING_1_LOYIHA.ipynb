{
  "nbformat": 4,
  "nbformat_minor": 0,
  "metadata": {
    "colab": {
      "private_outputs": true,
      "provenance": [],
      "gpuType": "T4",
      "authorship_tag": "ABX9TyOjA9JMvIqzRjHtDYSnvAvg",
      "include_colab_link": true
    },
    "kernelspec": {
      "name": "python3",
      "display_name": "Python 3"
    },
    "language_info": {
      "name": "python"
    },
    "accelerator": "GPU"
  },
  "cells": [
    {
      "cell_type": "markdown",
      "metadata": {
        "id": "view-in-github",
        "colab_type": "text"
      },
      "source": [
        "<a href=\"https://colab.research.google.com/github/FurkatUZB/first_one/blob/main/DEEP_LEARNING_1_LOYIHA.ipynb\" target=\"_parent\"><img src=\"https://colab.research.google.com/assets/colab-badge.svg\" alt=\"Open In Colab\"/></a>"
      ]
    },
    {
      "cell_type": "code",
      "execution_count": null,
      "metadata": {
        "id": "G_1Du-Emesjn"
      },
      "outputs": [],
      "source": [
        "import torch\n",
        "import fastai\n",
        "fastai.__version__"
      ]
    },
    {
      "cell_type": "markdown",
      "source": [
        "DATASET\n",
        "Googlening Open Images Dataset v4 DATASETIDAN FOYDALANAMIZ CHUNKI UNING SIFATI JUDA HAM YAXSHI VA OCHIQ. 600 TA SINF VA 1 mln 700 ming\n",
        "Datasetdan rasmlarni yuklab olish uchun OIDv4_ToolKit dan foydalanamiz"
      ],
      "metadata": {
        "id": "kwlNncNVfLBt"
      }
    },
    {
      "cell_type": "code",
      "source": [
        "!git clone https://github.com/EscVM/OIDv4_ToolKit.git"
      ],
      "metadata": {
        "id": "WK2wfw3Ee69y"
      },
      "execution_count": null,
      "outputs": []
    },
    {
      "cell_type": "markdown",
      "source": [
        "OIDv4_ToolKit  ga Kerakli kutibxonalarni yuklab olish"
      ],
      "metadata": {
        "id": "E-cEfjJbijol"
      }
    },
    {
      "cell_type": "code",
      "source": [
        "!cd OIDv4_ToolKit && pip install -r requirements.txt\n",
        "!cd OIDv4_ToolKit && python main.py -h"
      ],
      "metadata": {
        "id": "PVZ-joPziE29"
      },
      "execution_count": null,
      "outputs": []
    },
    {
      "cell_type": "markdown",
      "source": [
        "Har bir classga 200 tadan rasm yuklab olamiz"
      ],
      "metadata": {
        "id": "V9GzfwOxj-9F"
      }
    },
    {
      "cell_type": "code",
      "source": [
        "!cd OIDv4_ToolKit && python3 main.py downloader --Dataset /content --classes Car Airplane Boat --type_csv train  --limit 200"
      ],
      "metadata": {
        "id": "v1WbUmENkG3N"
      },
      "execution_count": null,
      "outputs": []
    },
    {
      "cell_type": "markdown",
      "source": [
        "MODEL"
      ],
      "metadata": {
        "id": "kmQuj5Fiq1sH"
      }
    },
    {
      "cell_type": "code",
      "source": [
        "from fastai.vision.all import *\n",
        "from ipywidgets import widgets\n",
        "path=Path('train')\n",
        "path.ls()\n",
        "#fls=get_image_files(path)\n",
        "#fls\n",
        "#failed_images=verify_images(path)\n",
        "#failed_images"
      ],
      "metadata": {
        "id": "tBLmb-EPqzsv"
      },
      "execution_count": null,
      "outputs": []
    },
    {
      "cell_type": "code",
      "source": [
        "## Datablock yaratamiz\n",
        "transports=DataBlock(\n",
        "    blocks=(ImageBlock, CategoryBlock),\n",
        "    get_items=get_image_files,\n",
        "    splitter=RandomSplitter(valid_pct=0.2, seed=42),\n",
        "    get_y=parent_label,\n",
        "    item_tfms=Resize(224)\n",
        ")\n",
        "##Dataloader yaratamiz\n",
        "dls=transports.dataloaders(path)\n",
        "##Datasetni tekshiramiz\n",
        "#dls.train.show_batch(max_n=42, nrows=4)\n",
        "\n",
        "##O'qitish\n",
        "learn=cnn_learner(dls, resnet34, metrics=accuracy)\n",
        "learn.fine_tune(4)"
      ],
      "metadata": {
        "id": "DP3EONQgJau6"
      },
      "execution_count": null,
      "outputs": []
    },
    {
      "cell_type": "code",
      "source": [
        "interp=ClassificationInterpretation.from_learner(learn)\n",
        "interp.plot_confusion_matrix()"
      ],
      "metadata": {
        "id": "NSROuvz-14ZB"
      },
      "execution_count": null,
      "outputs": []
    },
    {
      "cell_type": "code",
      "source": [
        "interp.plot_top_losses(5, nrows=1)"
      ],
      "metadata": {
        "id": "IXjYl3vX2Tyi"
      },
      "execution_count": null,
      "outputs": []
    },
    {
      "cell_type": "code",
      "source": [
        "upload=widgets.FileUpload()\n",
        "upload"
      ],
      "metadata": {
        "id": "BwBdxPFX2slp"
      },
      "execution_count": null,
      "outputs": []
    },
    {
      "cell_type": "code",
      "source": [
        "img=PILImage.create(upload.data[-1]) # rasm\n",
        "pred, pred_id, probs = learn.predict(img)  # bashorat qilish\n",
        "print(f'Bashorat: {pred}')\n",
        "print(f'Aniqlilik ehtimolligi: {probs[pred_id]*100:.1f}%')\n",
        "img"
      ],
      "metadata": {
        "id": "ACi-7Xe63Ber"
      },
      "execution_count": null,
      "outputs": []
    }
  ]
}